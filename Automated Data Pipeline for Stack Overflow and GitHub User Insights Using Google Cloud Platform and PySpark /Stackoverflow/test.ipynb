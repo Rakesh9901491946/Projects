{
 "cells": [
  {
   "cell_type": "code",
   "execution_count": 1,
   "metadata": {},
   "outputs": [
    {
     "name": "stdout",
     "output_type": "stream",
     "text": [
      "Fetching user data from Stack Exchange API...\n",
      "Error fetching data: 400\n",
      "Fetched 100 records.\n",
      "Data saved to latest_stack_overflow_user_data.csv\n"
     ]
    }
   ],
   "source": [
    "import time\n",
    "import requests\n",
    "import pandas as pd\n",
    "from datetime import datetime\n",
    "\n",
    "# Your Stack Exchange API key\n",
    "api_key = \"rl_1FihbmqnnC3CSntbnnbVRkvtC\"  # Replace with your actual API key\n",
    "\n",
    "# Define the number of records and pagesize\n",
    "total_records = 10000\n",
    "pagesize = 100  # Max allowed pagesize by the API\n",
    "\n",
    "def fetch_user_data():\n",
    "    all_data = []\n",
    "    page = 1\n",
    "    while len(all_data) < total_records:\n",
    "        url = (\n",
    "            f\"https://api.stackexchange.com/2.3/users\"\n",
    "            f\"?order=desc&sort=creation&site=stackoverflow\"\n",
    "            f\"&pagesize={pagesize}&page={page}&key={api_key}\"\n",
    "        )\n",
    "        response = requests.get(url)\n",
    "        if response.status_code == 200:\n",
    "            results = response.json().get('items', [])\n",
    "            if not results:\n",
    "                # No more results\n",
    "                break\n",
    "            for user in results:\n",
    "                data_row = {\n",
    "                    'account_id': user.get('account_id'),\n",
    "                    'reputation': user.get('reputation'),\n",
    "                    'user_id': user.get('user_id'),\n",
    "                    'user_type': user.get('user_type'),\n",
    "                    'profile_image': user.get('profile_image'),\n",
    "                    'display_name': user.get('display_name'),\n",
    "                    'link': user.get('link'),\n",
    "                    'creation_date': datetime.fromtimestamp(user.get('creation_date')),\n",
    "                    'last_access_date': datetime.fromtimestamp(user.get('last_access_date')),\n",
    "                }\n",
    "                all_data.append(data_row)\n",
    "                if len(all_data) >= total_records:\n",
    "                    break\n",
    "            page += 1\n",
    "        else:\n",
    "            print(f\"Error fetching data: {response.status_code}\")\n",
    "            break\n",
    "        # Add time.sleep to respect API rate limits\n",
    "        time.sleep(1.1)  # Sleep for 1.1 seconds\n",
    "    return all_data\n",
    "\n",
    "# Fetch data\n",
    "print(\"Fetching user data from Stack Exchange API...\")\n",
    "data = fetch_user_data()\n",
    "print(f\"Fetched {len(data)} records.\")\n",
    "\n",
    "# Create pandas DataFrame from data\n",
    "df = pd.DataFrame(data)\n",
    "\n",
    "# Add index column\n",
    "df.reset_index(inplace=True)\n",
    "df.rename(columns={'index': 'id'}, inplace=True)\n",
    "\n",
    "# Reorder columns if needed\n",
    "desired_columns = [\n",
    "    'id', 'account_id', 'reputation', 'user_id', 'user_type',\n",
    "    'profile_image', 'display_name', 'link', 'creation_date',\n",
    "    'last_access_date'\n",
    "]\n",
    "df = df[desired_columns]\n",
    "\n",
    "# Save DataFrame to CSV\n",
    "output_file = 'latest_stack_overflow_user_data.csv'\n",
    "df.to_csv(output_file, index=False)\n",
    "\n",
    "print(f'Data saved to {output_file}')\n"
   ]
  },
  {
   "cell_type": "code",
   "execution_count": null,
   "metadata": {},
   "outputs": [],
   "source": []
  }
 ],
 "metadata": {
  "kernelspec": {
   "display_name": "Python 3",
   "language": "python",
   "name": "python3"
  },
  "language_info": {
   "codemirror_mode": {
    "name": "ipython",
    "version": 3
   },
   "file_extension": ".py",
   "mimetype": "text/x-python",
   "name": "python",
   "nbconvert_exporter": "python",
   "pygments_lexer": "ipython3",
   "version": "3.12.0"
  }
 },
 "nbformat": 4,
 "nbformat_minor": 2
}
