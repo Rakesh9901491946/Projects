{
 "cells": [
  {
   "cell_type": "code",
   "execution_count": 20,
   "metadata": {},
   "outputs": [
    {
     "name": "stderr",
     "output_type": "stream",
     "text": [
      "[nltk_data] Downloading package punkt to\n",
      "[nltk_data]     C:\\Users\\prana\\AppData\\Roaming\\nltk_data...\n",
      "[nltk_data]   Package punkt is already up-to-date!\n"
     ]
    }
   ],
   "source": [
    "import nltk\n",
    "nltk.download('punkt')\n",
    "from dotenv import load_dotenv\n",
    "load_dotenv()\n",
    "\n",
    "import os\n",
    "from lxml import etree\n",
    "\n",
    "os.environ[\"LANGCHAIN_TRACING_V2\"] = \"true\"\n",
    "os.environ[\"LANGCHAIN_API_KEY\"] = os.getenv('LANGCHAIN_API_KEY')\n",
    "os.environ[\"Gemini_API_key\"] = os.getenv('Gemini_API_key')\n",
    "os.environ[\"GOOGLE_API_KEY\"] = os.getenv('GOOGLE_API_KEY')\n",
    "os.environ[\"GROQ_API_KEY\"] = os.getenv('GROQ_API_KEY')\n",
    "\n",
    "from langchain.agents import AgentExecutor\n",
    "from langchain_core.output_parsers import StrOutputParser\n",
    "from langchain_community.vectorstores import FAISS\n",
    "from langchain_text_splitters import RecursiveCharacterTextSplitter\n",
    "from langchain_community.embeddings.google_palm import GooglePalmEmbeddings\n",
    "from langchain.tools.retriever import create_retriever_tool\n",
    "from langchain_groq import ChatGroq\n",
    "from langchain_core.prompts import PromptTemplate\n",
    "from langchain.agents import create_tool_calling_agent"
   ]
  },
  {
   "cell_type": "code",
   "execution_count": 4,
   "metadata": {},
   "outputs": [],
   "source": [
    "total_info=\"\"\n",
    "\n",
    "main_directory_path = 'MedQuAD-master'\n",
    "for root, dirs, files in os.walk(main_directory_path):\n",
    "  for file in files:\n",
    "      if file.endswith('.xml'):  \n",
    "          file_path = os.path.join(root, file)\n",
    "          \n",
    "          try:\n",
    "              tree = etree.parse(file_path)\n",
    "              root_element = tree.getroot()\n",
    "              topic = root_element.find('.//Focus')\n",
    "              if topic is not None:\n",
    "                  total_info=total_info +\" \\n \" +topic.text+ \" \\n \"\n",
    "              \n",
    "              for specific_element in root_element.iter(\"QAPair\"):\n",
    "                  quest = specific_element.find('.//Question')\n",
    "                  answ= specific_element.find('.//Answer')\n",
    "                  question_text = quest.text\n",
    "                  answer_text = answ.text\n",
    "                  qtype = quest.attrib.get('qtype', 'No qtype found')\n",
    "                  if topic is not None:\n",
    "                    total_info=total_info +\" (Question Type: \"+qtype+\") Question: \"+question_text+ \" Answer: \"+answer_text \n",
    "            \n",
    "              total_info = total_info+\" \\n \"\n",
    "          except etree.XMLSyntaxError as e:\n",
    "              print(f\"Error parsing {file_path}: {e}\")"
   ]
  },
  {
   "cell_type": "code",
   "execution_count": 12,
   "metadata": {},
   "outputs": [
    {
     "name": "stderr",
     "output_type": "stream",
     "text": [
      "c:\\Users\\prana\\AppData\\Local\\Programs\\Python\\Python311\\Lib\\site-packages\\tqdm\\auto.py:21: TqdmWarning: IProgress not found. Please update jupyter and ipywidgets. See https://ipywidgets.readthedocs.io/en/stable/user_install.html\n",
      "  from .autonotebook import tqdm as notebook_tqdm\n"
     ]
    }
   ],
   "source": [
    "text_splitter = RecursiveCharacterTextSplitter(chunk_size=500, chunk_overlap=60)\n",
    "documents=text_splitter.create_documents([total_info[0:6500]])\n",
    "palm_embeddings=GooglePalmEmbeddings()"
   ]
  },
  {
   "cell_type": "code",
   "execution_count": 15,
   "metadata": {},
   "outputs": [],
   "source": [
    "vector = FAISS.from_documents(documents, palm_embeddings)"
   ]
  },
  {
   "cell_type": "code",
   "execution_count": 17,
   "metadata": {},
   "outputs": [],
   "source": [
    "retriever = vector.as_retriever()"
   ]
  },
  {
   "cell_type": "code",
   "execution_count": 18,
   "metadata": {},
   "outputs": [],
   "source": [
    "retriever_tool = create_retriever_tool(\n",
    "    retriever,\n",
    "    \"medical_tool\",\n",
    "    \"searches the medical documents\"\n",
    ")"
   ]
  },
  {
   "cell_type": "code",
   "execution_count": 19,
   "metadata": {},
   "outputs": [],
   "source": [
    "tools = [retriever_tool]"
   ]
  },
  {
   "cell_type": "code",
   "execution_count": 22,
   "metadata": {},
   "outputs": [],
   "source": [
    "model = ChatGroq(model=\"llama3-8b-8192\")"
   ]
  },
  {
   "cell_type": "code",
   "execution_count": 23,
   "metadata": {},
   "outputs": [],
   "source": [
    "model_with_tools = model.bind_tools(tools)"
   ]
  },
  {
   "cell_type": "code",
   "execution_count": 24,
   "metadata": {},
   "outputs": [],
   "source": [
    "prompt=PromptTemplate.from_template(\n",
    "\"\"\"\n",
    "You are a mecial chatbot and answer the user query in short based on the tool. If some other questions \n",
    "are asked other than medical then say something like you are only designed to answer medical questions only.\n",
    "question: {input}\n",
    "answer:''\n",
    "{agent_scratchpad}\n",
    "\"\"\"\n",
    ")"
   ]
  },
  {
   "cell_type": "code",
   "execution_count": 25,
   "metadata": {},
   "outputs": [],
   "source": [
    "agent = create_tool_calling_agent(model, tools, prompt)"
   ]
  },
  {
   "cell_type": "code",
   "execution_count": 27,
   "metadata": {},
   "outputs": [],
   "source": [
    "agent_executor = AgentExecutor(agent=agent, tools=tools, output_parser=StrOutputParser())"
   ]
  },
  {
   "cell_type": "code",
   "execution_count": 29,
   "metadata": {},
   "outputs": [],
   "source": [
    "ans=agent_executor.invoke({\"input\":\"Adult Acute Lymphoblastic\"})  "
   ]
  },
  {
   "cell_type": "code",
   "execution_count": 31,
   "metadata": {},
   "outputs": [
    {
     "data": {
      "text/plain": [
       "{'input': 'Adult Acute Lymphoblastic',\n",
       " 'output': 'Adult Acute Lymphoblastic Leukemia (ALL) is a type of cancer in which the bone marrow makes too many lymphocytes (a type of white blood cell).'}"
      ]
     },
     "execution_count": 31,
     "metadata": {},
     "output_type": "execute_result"
    }
   ],
   "source": [
    "ans"
   ]
  }
 ],
 "metadata": {
  "kernelspec": {
   "display_name": "Python 3",
   "language": "python",
   "name": "python3"
  },
  "language_info": {
   "codemirror_mode": {
    "name": "ipython",
    "version": 3
   },
   "file_extension": ".py",
   "mimetype": "text/x-python",
   "name": "python",
   "nbconvert_exporter": "python",
   "pygments_lexer": "ipython3",
   "version": "3.11.4"
  }
 },
 "nbformat": 4,
 "nbformat_minor": 2
}
